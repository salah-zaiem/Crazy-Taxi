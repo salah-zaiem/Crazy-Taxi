{
 "cells": [
  {
   "cell_type": "markdown",
   "metadata": {},
   "source": [
    "# Reinforcement Learning Project : Crazy Taxi AI"
   ]
  },
  {
   "cell_type": "markdown",
   "metadata": {},
   "source": [
    "Plan :\n",
    "\n",
    "[1.Setting up the Environment and the agent](#1)  \n",
    "[2.SARSA learning](#2)  \n",
    "[3.Qlearning](#3)  \n",
    "[4.Qlearning Back Propagation](#4)  "
   ]
  },
  {
   "cell_type": "markdown",
   "metadata": {},
   "source": [
    "<a id=\"1\"></a>\n",
    "##  1.Setting up the Environment and the agent"
   ]
  },
  {
   "cell_type": "code",
   "execution_count": 1,
   "metadata": {},
   "outputs": [],
   "source": [
    "import numpy as np\n",
    "import random\n",
    "from matplotlib import pyplot as plt\n",
    "\n",
    "voies = 3\n",
    "rows = 4"
   ]
  },
  {
   "cell_type": "markdown",
   "metadata": {},
   "source": [
    "Our environnement consists in a road, represented by a grid. There are lanes (voies) and rows representing the vertical position of the objects.\n",
    "On this road, there are cars - depicted by their lanes for each row. If there are no cars, their lane is equal to voies+1-, a taxi that is our agent - evolving on the last row, depicted the same way the cars are - and coins represented by their coordinates."
   ]
  },
  {
   "cell_type": "code",
   "execution_count": 2,
   "metadata": {},
   "outputs": [
    {
     "name": "stdout",
     "output_type": "stream",
     "text": [
      "Number 2 converted in base 4 :\n",
      "[0, 0, 0, 2]\n",
      "\n",
      "exemple of a state :\n",
      "[0, 0, 1, 3, 0, 3, 1]\n",
      "There is a car in position (0,0)\n",
      "There is a car in position (1,0)\n",
      "There is a car in position (2,1)\n",
      "There is no car in the 4th row\n",
      "There is a coin in position (3,1)\n",
      "\n",
      "State hashing function :\n",
      "0013031\n",
      "\n"
     ]
    }
   ],
   "source": [
    "#Creates a list with the decomposition of i in base b : \n",
    "#i = a0 * b**k + a1 * b**(k-1)... --> [a0,a1...]\n",
    "#We use this auxiliary function to explore all grids of cars\n",
    "def base_convert(i, b):\n",
    "    result = []\n",
    "    while len(result)<b:\n",
    "            t=(i % b)\n",
    "            result=[t]+result\n",
    "            i = i // b\n",
    "    return result\n",
    "\n",
    "print(\"Number 2 converted in base 4 :\")\n",
    "print(base_convert(2,4))\n",
    "print()\n",
    "\n",
    "#Init all the states\n",
    "def init_states (voies,rows):\n",
    "    grid_states=[]\n",
    "    for i in range((voies+1)**(rows)):\n",
    "        for j in range(voies):\n",
    "            #We use the equivalence grids <->integer\n",
    "            #Then we add the possible positions of the taxi -(j)\n",
    "            grid_states+=[base_convert(i,voies+1) + [j]]\n",
    "    real_states = []\n",
    "    for state in grid_states :\n",
    "        #Then we add the possible positions of the coin \n",
    "        #No coin scenario\n",
    "        real_states.append(state+[rows,rows])\n",
    "        for pos_vertical in range(rows):\n",
    "            for pos_horizontal in range(voies):\n",
    "                if state[pos_vertical]!=pos_horizontal :\n",
    "                    #check if there is a car at this cell\n",
    "                    real_states.append(state+[pos_vertical,pos_horizontal])\n",
    "    return real_states\n",
    "\n",
    "states = init_states(voies, rows)\n",
    "\n",
    "print(\"exemple of a state :\")\n",
    "print(states[200])\n",
    "print(\"There is a car in position (0,0)\")\n",
    "print(\"There is a car in position (1,0)\")\n",
    "print(\"There is a car in position (2,1)\")\n",
    "print(\"There is no car in the 4th row\")\n",
    "print(\"There is a coin in position (3,1)\")\n",
    "print()\n",
    "\n",
    "#Hash function\n",
    "def hash_s(s):\n",
    "    name=\"\"\n",
    "    for j in s : \n",
    "        name=name+str(j)\n",
    "    return name\n",
    "\n",
    "print(\"State hashing function :\")\n",
    "print(hash_s(states[200]))\n",
    "print()\n",
    "\n",
    "#initialise actions value\n",
    "def init_q(states) : \n",
    "    q={}\n",
    "    for i in states :\n",
    "        #the car can either drive straight, right or left, except if the taxi is at the border of the road\n",
    "        name = hash_s(i)\n",
    "        if i[rows]==0 :\n",
    "            actions_l = {\"1\":0, \"2\":0}\n",
    "            q[name]=actions_l\n",
    "        elif i[rows]==voies-1 :\n",
    "            actions_r = {\"1\":0, \"0\":0}\n",
    "            q[name]=actions_r\n",
    "        else: \n",
    "            actions_c= {\"0\":0, \"1\":0,\"2\":0}\n",
    "            q[name]=actions_c\n",
    "    return q\n",
    "            \n",
    "q=init_q(states)\n"
   ]
  },
  {
   "cell_type": "code",
   "execution_count": 3,
   "metadata": {},
   "outputs": [
    {
     "data": {
      "text/plain": [
       "([3, 1, 3, 1, 1, 0, 2], True)"
      ]
     },
     "execution_count": 3,
     "metadata": {},
     "output_type": "execute_result"
    }
   ],
   "source": [
    "def add_car(t) : \n",
    "    j = random.random()\n",
    "    p=t*j\n",
    "    pos = voies\n",
    "    if (j)>0.5:\n",
    "        pos = random.randint(0,voies-1)\n",
    "    return pos\n",
    "\n",
    "def add_heart(s):\n",
    "    new_heart=[rows,rows]\n",
    "    pos= random.random()\n",
    "    apparition = False\n",
    "    if pos>0.5 : \n",
    "        apparition = True\n",
    "        test=False\n",
    "        while test==False:\n",
    "            horizontal_pos = random.randint(0,voies-1)\n",
    "            if s[0] != horizontal_pos:\n",
    "                test=True\n",
    "                new_heart=[0,horizontal_pos]\n",
    "    return new_heart, apparition\n",
    "        \n",
    "\n",
    "def next_state(s,a,t=2):\n",
    "    impossible3 = [[0,1,2],[2,1,0],[0,1,1],[2,1,1]]\n",
    "    impossible5 = [[0,1,3,1,0],[2,1,3,1,2]]\n",
    "    #new_heart_position : \n",
    "    state = [add_car(t)]+s[0:(rows-1)]+[s[rows]+int(a)-1] + [s[rows+1]] + [s[rows+2]]  \n",
    "    if state[rows+1]<rows : \n",
    "        state[rows+1]+=1\n",
    "    if state[rows+1]==rows : \n",
    "        state[rows+2]=rows\n",
    "    apparition = False\n",
    "    while (state[0:3] in impossible3 or state[0:5] in impossible5):\n",
    "        state[0] = add_car(t)\n",
    "    if state[rows+1]== rows : \n",
    "        new_heart = add_heart(state)\n",
    "        state[rows+1:rows+3] = new_heart[0]\n",
    "        apparition =new_heart[1]\n",
    "        \n",
    "    return state, apparition\n",
    "\n",
    "#Example\n",
    "next_state([1,3,1,3,0,4,4],2)\n",
    "    "
   ]
  },
  {
   "cell_type": "code",
   "execution_count": 4,
   "metadata": {},
   "outputs": [
    {
     "data": {
      "text/plain": [
       "'0'"
      ]
     },
     "execution_count": 4,
     "metadata": {},
     "output_type": "execute_result"
    }
   ],
   "source": [
    "#Defining the environment \n",
    "#Convention \n",
    "g=-1\n",
    "Actions = [\"l\", \"r\", \"k\"]\n",
    "s0 = {\"grid\" : np.zeros((3,4)) , \"position\" : 0}\n",
    "#This won't be used finally \n",
    "def act_with_softmax(s, q):\n",
    "    prob_a = softmax(q[s, :])\n",
    "    cumsum_a = np.cumsum(prob_a)\n",
    "    return np.where(np.random.rand() < cumsum_a)[0][0]\n",
    "\n",
    "#Just a function to get the key with the maximal value in a dictionnary\n",
    "def keywithmaxval(d):\n",
    "    v = list(d.values())\n",
    "    k = list(d.keys()) \n",
    "    return k[v.index(max(v))]\n",
    "#The reward function \n",
    "#Gives -3 in case of a crash\n",
    "#10 i case of coin catch\n",
    "# 1 in case of survival\n",
    "def reward(s,a):\n",
    "    basic_reward=1\n",
    "    pos_heart=s[rows+1]\n",
    "    pos=s[rows]\n",
    "    back= s[rows-1]\n",
    "    front = s[rows-2]\n",
    "    next_pos= pos+int(a)-1\n",
    "    if (next_pos==front or next_pos==back):\n",
    "        return -3\n",
    "    if (pos_heart==rows-2 and next_pos == s[rows+2]) : \n",
    "        return 10\n",
    "    return 1\n",
    "\n",
    "#Epsilon greedy exploration policy\n",
    "def act_with_epsilon_greedy(s, q,epsilon=0.5):\n",
    "    local_q = q[hash_s(s)]\n",
    "    local_list = list(local_q.keys())\n",
    "    if np.random.rand() < epsilon:\n",
    "        a = np.random.randint(0,len(local_list))\n",
    "        return local_list[a]\n",
    "    a = keywithmaxval(local_q)\n",
    "    return a\n",
    "\n",
    "\n",
    "#Find the action with the highest Q\n",
    "def find_maxQ(s, q):\n",
    "    local_q = q[hash_s(s)]\n",
    "    local_list = list(local_q.values())\n",
    "    return max(local_list)\n",
    "\n",
    "#Example\n",
    "act_with_epsilon_greedy([0,3,1,0,1,0,2],q) \n",
    "\n",
    "        "
   ]
  },
  {
   "cell_type": "code",
   "execution_count": 5,
   "metadata": {},
   "outputs": [],
   "source": [
    "\"\"\"\n",
    "Ce code faisait bouger des cercles\n",
    "\n",
    "def taxi(x,y,height,width):\n",
    "    draw_car(x,y,height,width,color='red')\n",
    "    \n",
    "def car(x,y,height,width):\n",
    "    draw_car(x,y,height,width,color='blue')\n",
    "    \n",
    "def draw_car(x,y,height,width,color,voies=3,rows=4):\n",
    "    #Dessine un cercle de centre (x,y) et de rayon r\n",
    "    r = 20\n",
    "    coef_x, coef_y = height/(rows-1) , width/(1+voies)\n",
    "    x = x*coef_x+2*r\n",
    "    y = y*coef_y+2*r\n",
    "    Canevas.create_oval(x-r, y-r, x+r, y+r, outline=color, fill=color)\n",
    "    \n",
    "def print_state(s,i,t):\n",
    "    global Hauteur, Largeur\n",
    "    Canevas.delete(\"all\")\n",
    "    s = [-5 if x == 3 else x for x in s]\n",
    "    for j in range(len(s[:-1])):\n",
    "        car(s[j],j,Hauteur,Largeur)\n",
    "    taxi(s[-1],len(s)-2,Hauteur,Largeur)\n",
    "    Canevas.create_text(100, Largeur - 20, text = \"Episode : \"+str(i))\n",
    "    Canevas.create_text(100, Largeur - 10, text = \"Temps : \"+str(t))\n",
    "    Canevas.update_idletasks()\n",
    "\"\"\"\n",
    "\n",
    "#We define the graphical interface \n",
    "\n",
    "#Not really important to understand, it is mainly some code to show taxis, cars and coins.\n",
    "\n",
    "import tkinter as tk\n",
    "from PIL import Image, ImageTk  \n",
    "\n",
    "image_car = Image.open(\"car.jpg\")\n",
    "image_car = image_car.resize((40,60))\n",
    "\n",
    "image_taxi = Image.open(\"taxi.png\") \n",
    "image_taxi = image_taxi.resize((40,60))\n",
    "\n",
    "image_coin = Image.open(\"piece.jpeg\")\n",
    "image_coin = image_coin.resize((30,30))\n",
    "\n",
    "Largeur = 450\n",
    "Hauteur = 500\n",
    "\n",
    "#bg = Image.open(\"road.jpeg\") \n",
    "#bg = bg.resize((Hauteur,Largeur))\n",
    "\n",
    "from time import sleep\n",
    "\n",
    "class Model_interface:\n",
    "    def __init__(self, Canevas):\n",
    "        self.Canevas = Canevas\n",
    "        #self.Canevas.title('Crazy Taxi')\n",
    "    \n",
    "    def draw_obj(self, x,y,height,width,photo,voies=3,rows=4):\n",
    "        \"\"\" Dessine une photo de centre (x,y) \"\"\"\n",
    "        r = 20\n",
    "        coef_x, coef_y = height/(rows-1) , width/(1+voies)\n",
    "        x = x*coef_x+2*r\n",
    "        y = y*coef_y+2*r\n",
    "        self.Canevas.create_image(x-r, y-r, anchor = tk.NW, image=photo) \n",
    "\n",
    "    def taxi(self, x,y,height,width):\n",
    "        self.draw_obj(x,y,height,width,photo = photo_taxi)\n",
    "\n",
    "    def car(self, x,y,height,width):\n",
    "        self.draw_obj(x,y,height,width,photo = photo_car)\n",
    "    \n",
    "    def coin(self, x,y,height,width):\n",
    "        self.draw_obj(x,y,height,width,photo = photo_coin)\n",
    "    \n",
    "\n",
    "    def print_state(self, state,i,t):\n",
    "        global Hauteur, Largeur\n",
    "        self.Canevas.delete(\"all\")\n",
    "        s = state[:-2]\n",
    "        s = [-5 if x == 3 else x for x in s]\n",
    "        for j in range(len(s[:-1])):\n",
    "            self.car(s[j],j,Hauteur,Largeur)\n",
    "        self.taxi(s[-1],len(s)-2,Hauteur,Largeur)\n",
    "        if (state[-2] != rows):\n",
    "            self.coin(state[-1],state[-2],Hauteur,Largeur)\n",
    "        sleep(0.1)\n",
    "        self.Canevas.create_text(100, Largeur - 20, text = \"Episode : \"+str(i))\n",
    "        self.Canevas.create_text(100, Largeur - 10, text = \"Temps : \"+str(t))\n",
    "        self.Canevas.update_idletasks()\n",
    "        self.Canevas.update() "
   ]
  },
  {
   "cell_type": "markdown",
   "metadata": {},
   "source": [
    "<a id=\"2\"></a>\n",
    "## 2.SARSA learning "
   ]
  },
  {
   "cell_type": "code",
   "execution_count": 6,
   "metadata": {},
   "outputs": [],
   "source": [
    "Mafenetre_sarsa = tk.Tk()\n",
    "Mafenetre_sarsa.title('Crazy Taxi Sarsa')\n",
    "\n",
    "photo_taxi = ImageTk.PhotoImage(image_taxi, master = Mafenetre_sarsa)\n",
    "photo_car = ImageTk.PhotoImage(image_car, master = Mafenetre_sarsa)\n",
    "photo_coin = ImageTk.PhotoImage(image_coin, master = Mafenetre_sarsa)\n",
    "#background = ImageTk.PhotoImage(bg, master = Mafenetre)\n",
    "\n",
    "Canevas = tk.Canvas(Mafenetre_sarsa, width = Largeur, height = Hauteur, bg = \"white\")\n",
    "#Canevas.create_image(0,0, image = background, anchor = tk.NW)\n",
    "Canevas.pack(padx =5, pady =5)\n",
    "Interf = Model_interface(Canevas)\n",
    "\n",
    "#Sarsa learning algorithm with 20000 episodes, epsilon=0.3, we take a normal situation with 3 lanes and 4 rows.\n",
    "#voies =lanes\n",
    "def sarsa_learning(num_episode = 20000, gamma=0.9, alpha=0.1,voies=3, rows=4, epsilon = 0.3):\n",
    "    states= init_states(voies,rows)\n",
    "    q = init_q(states) \n",
    "    # x stocks the ending times\n",
    "    x=[]\n",
    "    #This will be used to count the number of count caught\n",
    "    bonuses = []\n",
    "    cumul = 0\n",
    "    #cumul is used to show some episodes \"randomly\"\n",
    "    # proportions stocks the proportion of coins caught\n",
    "    proportions = []\n",
    "    for i in range(num_episode):\n",
    "        #We begin with a random state, without coins, and without cars in the first rows.\n",
    "        s = [random.randint(0,voies),random.randint(0,voies),3,3,random.randint(0,voies-1), rows, rows]\n",
    "        r=0\n",
    "        t=0\n",
    "        apparitions = 0\n",
    "        a = act_with_epsilon_greedy(s,q,epsilon*(10/(i+1)))\n",
    "        bonus_score = 0\n",
    "        #Display concerns the GUI\n",
    "        Display = False\n",
    "        cumul += 1/(i+1) \n",
    "        if(cumul>1):\n",
    "            cumul=0\n",
    "            Display = True\n",
    "        \n",
    "        while (r!=-3): #While no crash\n",
    "            \n",
    "            if(Display):\n",
    "                Interf.print_state(s,i,t)\n",
    "            \n",
    "            t+=1\n",
    "            r=reward(s,a)\n",
    "            #Basic Sarsa Learning\n",
    "            s_prime = next_state(s,a,t)\n",
    "            apparition = s_prime[1]\n",
    "            s_prime=s_prime[0]\n",
    "            aprime = act_with_epsilon_greedy(s_prime, q, epsilon*np.exp(-i/100))\n",
    "            delta = r + gamma* q[hash_s(s_prime)][aprime] - q[hash_s(s)][a]\n",
    "            #Update of Q\n",
    "            q[hash_s(s)][a] += alpha * delta\n",
    "            s=s_prime\n",
    "            a=aprime\n",
    "            \n",
    "            if r==10:\n",
    "                #We got a coin !! \n",
    "                bonus_score+=1\n",
    "            apparitions+=apparition\n",
    "            if(t>1000): #We limit the iterations to 1000 \n",
    "                break\n",
    "        #We update the lists with the results of this episode\n",
    "        x += [t]\n",
    "        bonuses+=[bonus_score]\n",
    "        if apparitions !=0 :\n",
    "            proportions += [bonus_score/apparitions]\n",
    "        else : \n",
    "            proportions +=[0]\n",
    "            \n",
    "            \n",
    "    return x,bonuses, proportions"
   ]
  },
  {
   "cell_type": "code",
   "execution_count": 7,
   "metadata": {},
   "outputs": [
    {
     "name": "stdout",
     "output_type": "stream",
     "text": [
      "CPU times: user 24.4 s, sys: 871 ms, total: 25.3 s\n",
      "Wall time: 45.9 s\n"
     ]
    }
   ],
   "source": [
    "%%time\n",
    "results = sarsa_learning()\n",
    "#We stock the different results in order to plot them\n",
    "Y=results[0]\n",
    "bonuses = results[1]\n",
    "proportions = results[2]"
   ]
  },
  {
   "cell_type": "code",
   "execution_count": 8,
   "metadata": {},
   "outputs": [
    {
     "data": {
      "image/png": "[encoded data removed]",
      "text/plain": [
       "<matplotlib.figure.Figure at 0x10638e828>"
      ]
     },
     "metadata": {},
     "output_type": "display_data"
    }
   ],
   "source": [
    "X = [i for i in range(len(Y))]\n",
    "plt.plot(X,Y)\n",
    "plt.xlabel(\"episode number\")\n",
    "plt.ylabel(\"end time\")\n",
    "plt.title(\"Sarsa End Time\")\n",
    "#plt.savefig(\"SARSA_endtime.png\")\n",
    "plt.show()  "
   ]
  },
  {
   "cell_type": "code",
   "execution_count": 9,
   "metadata": {},
   "outputs": [
    {
     "data": {
      "image/png": "[encoded data removed]",
      "text/plain": [
       "<matplotlib.figure.Figure at 0x109f1c240>"
      ]
     },
     "metadata": {},
     "output_type": "display_data"
    }
   ],
   "source": [
    "Y_prime = [np.mean(Y[0:i]) for i in range(1,len(Y))]\n",
    "X = [i for i in range(len(Y_prime))]\n",
    "plt.plot(X,Y_prime)\n",
    "plt.xlabel(\"episode number\")\n",
    "plt.ylabel(\"end time\")\n",
    "plt.title(\"Sarsa End Time Mean\")\n",
    "#plt.savefig(\"SARSA_endtime_mean.png\")\n",
    "plt.show()  "
   ]
  },
  {
   "cell_type": "code",
   "execution_count": 10,
   "metadata": {},
   "outputs": [
    {
     "data": {
      "image/png": "[encoded data removed]",
      "text/plain": [
       "<matplotlib.figure.Figure at 0x10a04b1d0>"
      ]
     },
     "metadata": {},
     "output_type": "display_data"
    }
   ],
   "source": [
    "bonuses_means = [np.mean(bonuses[0:i]) for i in range(1,len(bonuses))]\n",
    "X = [i for i in range(len(bonuses_means))]\n",
    "plt.plot(X,bonuses_means)\n",
    "plt.xlabel(\"episode number\")\n",
    "plt.title(\"Sarsa coins taken\")\n",
    "plt.ylabel(\"number of coins taken\")\n",
    "#plt.savefig(\"SarsaCoinstaken.png\")\n",
    "plt.show() "
   ]
  },
  {
   "cell_type": "code",
   "execution_count": 11,
   "metadata": {},
   "outputs": [
    {
     "data": {
      "image/png": "[encoded data removed]",
      "text/plain": [
       "<matplotlib.figure.Figure at 0x102376240>"
      ]
     },
     "metadata": {},
     "output_type": "display_data"
    }
   ],
   "source": [
    "proportions_taken_means = [np.mean(proportions[0:i]) for i in range(1,len(proportions))]\n",
    "X = [i for i in range(len(proportions_taken_means))]\n",
    "plt.plot(X,proportions_taken_means)\n",
    "plt.title(\"Sarsa Learning proportion coins\")\n",
    "plt.xlabel(\"episode number\")\n",
    "plt.ylabel(\"proportion of coins taken\")\n",
    "#plt.savefig(\"Sarsa_ProportionCoinsTaken.png\")\n",
    "plt.show()"
   ]
  },
  {
   "cell_type": "markdown",
   "metadata": {
    "collapsed": true
   },
   "source": [
    "<a id=\"3\"></a>\n",
    "## 3.Qlearning"
   ]
  },
  {
   "cell_type": "code",
   "execution_count": 12,
   "metadata": {},
   "outputs": [],
   "source": [
    "\n",
    "Mafenetre_qlearning = tk.Tk()\n",
    "Mafenetre_qlearning.title('Crazy Taxi Qlearning')\n",
    "\n",
    "photo_taxi = ImageTk.PhotoImage(image_taxi, master = Mafenetre_qlearning)\n",
    "photo_car = ImageTk.PhotoImage(image_car, master = Mafenetre_qlearning)\n",
    "photo_coin = ImageTk.PhotoImage(image_coin, master = Mafenetre_qlearning)\n",
    "#background = ImageTk.PhotoImage(bg, master = Mafenetre)\n",
    "\n",
    "Canevas = tk.Canvas(Mafenetre_qlearning, width = Largeur, height = Hauteur, bg = \"white\")\n",
    "#Canevas.create_image(0,0, image = background, anchor = tk.NW)\n",
    "Canevas.pack(padx =5, pady =5)\n",
    "Interf = Model_interface(Canevas)\n",
    "\n",
    "# Q learning algorithm on 20000 episodes too\n",
    "def q_learning(num_episode = 20000, gamma=0.9, alpha=0.1,voies=3, rows=4, epsilon = 0.3):\n",
    "    states= init_states(voies,rows)\n",
    "    #Same indexes and structures\n",
    "    q = init_q(states) \n",
    "    x=[]\n",
    "    bonuses = []\n",
    "    proportions = []\n",
    "    cumul = 0\n",
    "    \n",
    "    for i in range(num_episode):\n",
    "        s = [random.randint(0,voies),random.randint(0,voies),3,3,random.randint(0,voies-1), rows, rows]\n",
    "        r=0\n",
    "        t=0\n",
    "        apparitions = 0\n",
    "        bonus_score=0\n",
    "        Display = False\n",
    "        \n",
    "        cumul += 1/(i+1) \n",
    "        if(cumul>10):\n",
    "            cumul=0\n",
    "            Display = True\n",
    "        \n",
    "        while (r!=-3):\n",
    "            if(Display):\n",
    "                Interf.print_state(s,i,t)\n",
    "            \n",
    "            t+=1\n",
    "            a = act_with_epsilon_greedy(s,q,epsilon*(10/(i+1)))\n",
    "            r=reward(s,a)\n",
    "            if (Display & r==-3):\n",
    "                sleep(100)\n",
    "            s_prime = next_state(s,a,t)\n",
    "            apparition = s_prime[1]\n",
    "            s_prime=s_prime[0]\n",
    "            delta = r + gamma*find_maxQ(s_prime,q) - q[hash_s(s)][a]\n",
    "            q[hash_s(s)][a] += alpha * delta\n",
    "            s=s_prime\n",
    "            if(t>1000):\n",
    "                break\n",
    "            if r==10 : \n",
    "                bonus_score +=1\n",
    "            apparitions += apparition\n",
    "        x += [t]\n",
    "        bonuses +=[bonus_score]\n",
    "        if apparitions!=0 : \n",
    "            proportions += [bonus_score/apparitions]\n",
    "        else : \n",
    "            proportions += [0]\n",
    "            \n",
    "    return x, bonuses, proportions"
   ]
  },
  {
   "cell_type": "code",
   "execution_count": 13,
   "metadata": {},
   "outputs": [
    {
     "name": "stdout",
     "output_type": "stream",
     "text": [
      "CPU times: user 25.2 s, sys: 492 ms, total: 25.7 s\n",
      "Wall time: 31.5 s\n"
     ]
    }
   ],
   "source": [
    "%%time\n",
    "results = q_learning()\n",
    "Y=results[0]\n",
    "bonuses = results[1]\n",
    "proportions = results[2]    "
   ]
  },
  {
   "cell_type": "code",
   "execution_count": 14,
   "metadata": {},
   "outputs": [
    {
     "data": {
      "image/png": "[encoded data removed]",
      "text/plain": [
       "<matplotlib.figure.Figure at 0x109eeddd8>"
      ]
     },
     "metadata": {},
     "output_type": "display_data"
    }
   ],
   "source": [
    "X = [i for i in range(len(Y))]\n",
    "plt.plot(X,Y)\n",
    "plt.xlabel(\"episode number\")\n",
    "plt.ylabel(\"end time\")\n",
    "plt.title(\"Qlearning End Time\")\n",
    "#plt.savefig(\"Qlearning_endtime.png\")\n",
    "plt.show()  "
   ]
  },
  {
   "cell_type": "code",
   "execution_count": 15,
   "metadata": {},
   "outputs": [
    {
     "data": {
      "image/png": "[encoded data removed]",
      "text/plain": [
       "<matplotlib.figure.Figure at 0x1168afe48>"
      ]
     },
     "metadata": {},
     "output_type": "display_data"
    }
   ],
   "source": [
    "Y_prime = [np.mean(Y[0:i]) for i in range(1,len(Y))]\n",
    "X = [i for i in range(len(Y_prime))]\n",
    "plt.plot(X,Y_prime)\n",
    "plt.xlabel(\"episode number\")\n",
    "plt.ylabel(\"end time\")\n",
    "plt.title(\"Qlearning End Time Mean\")\n",
    "#plt.savefig(\"Qlearning_endtime_mean.png\")\n",
    "plt.show()  "
   ]
  },
  {
   "cell_type": "code",
   "execution_count": 16,
   "metadata": {},
   "outputs": [
    {
     "data": {
      "image/png": "[encoded data removed]",
      "text/plain": [
       "<matplotlib.figure.Figure at 0x10d16c2e8>"
      ]
     },
     "metadata": {},
     "output_type": "display_data"
    }
   ],
   "source": [
    "proportions_taken_means = [np.mean(proportions[0:i]) for i in range(1,len(proportions))]\n",
    "X = [i for i in range(len(proportions_taken_means))]\n",
    "plt.plot(X,proportions_taken_means)\n",
    "plt.title(\"Q Learning proportion coins\")\n",
    "plt.xlabel(\"episode number\")\n",
    "plt.ylabel(\"proportion of coins taken\")\n",
    "#plt.savefig(\"Qlearning_ProportionCoinsTaken.png\")\n",
    "plt.show()"
   ]
  },
  {
   "cell_type": "code",
   "execution_count": 17,
   "metadata": {},
   "outputs": [
    {
     "data": {
      "image/png": "[encoded data removed]",
      "text/plain": [
       "<matplotlib.figure.Figure at 0x1060752e8>"
      ]
     },
     "metadata": {},
     "output_type": "display_data"
    }
   ],
   "source": [
    "bonuses_means = [np.mean(bonuses[0:i]) for i in range(1,len(bonuses))]\n",
    "X = [i for i in range(len(bonuses_means))]\n",
    "plt.plot(X,bonuses_means)\n",
    "plt.xlabel(\"episode number\")\n",
    "plt.title(\"Qlearning coins taken\")\n",
    "plt.ylabel(\"number of coins taken\")\n",
    "#plt.savefig(\"QlearningCoinstaken.png\")\n",
    "plt.show() "
   ]
  },
  {
   "cell_type": "markdown",
   "metadata": {},
   "source": [
    "<a id=\"4\"></a>\n",
    "## 4.Qlearning Back Propagation"
   ]
  },
  {
   "cell_type": "code",
   "execution_count": 22,
   "metadata": {},
   "outputs": [],
   "source": [
    "Mafenetre_qlearningbp = tk.Tk()\n",
    "Mafenetre_qlearningbp.title('Crazy Taxi Qlearning back prop')\n",
    "\n",
    "photo_taxi = ImageTk.PhotoImage(image_taxi, master = Mafenetre_qlearningbp)\n",
    "photo_car = ImageTk.PhotoImage(image_car, master = Mafenetre_qlearningbp)\n",
    "photo_coin = ImageTk.PhotoImage(image_coin, master = Mafenetre_qlearningbp)\n",
    "#background = ImageTk.PhotoImage(bg, master = Mafenetre)\n",
    "\n",
    "Canevas = tk.Canvas(Mafenetre_qlearningbp, width = Largeur, height = Hauteur, bg = \"white\")\n",
    "#Canevas.create_image(0,0, image = background, anchor = tk.NW)\n",
    "Canevas.pack(padx =5, pady =5)\n",
    "Interf = Model_interface(Canevas)\n",
    "\n",
    "#final algorithm and the most successful ones\n",
    "#We will add a step in case of a crash that will negatively affect the previous actions\n",
    "#This is meant to prevent inevitable crash cases by early preventive moves.\n",
    "def q_learning_backprop(num_episode = 20000, gamma=0.9, alpha=0.1,voies=3, rows=4, epsilon = 0.3,register_size=3):\n",
    "    states= init_states(voies,rows)\n",
    "    q = init_q(states) \n",
    "    x=[]\n",
    "    #Begins like the others\n",
    "    proportion_taken = []\n",
    "    \n",
    "    cumul = 0\n",
    "    bonus_scores  = []\n",
    "    for i in range(num_episode):\n",
    "        s = [random.randint(0,voies),random.randint(0,voies),3,3,random.randint(0,voies-1), rows, rows]\n",
    "        r=0\n",
    "        t=0\n",
    "        apparitions = 0\n",
    "        bonus_score = 0 \n",
    "        \n",
    "        history = []\n",
    "        \n",
    "        Display = False\n",
    "        cumul += 1/(i+1) \n",
    "        if(cumul>1):\n",
    "            cumul=0\n",
    "            Display = True\n",
    "        \n",
    "        while (r!=-3):\n",
    "            # We just show one example for the 15000 episode\n",
    "            if(i==15000):\n",
    "                Interf.print_state(s,i,t)\n",
    "                \n",
    "            t+=1\n",
    "            a = act_with_epsilon_greedy(s,q,epsilon*np.exp(-i/100))\n",
    "            r=reward(s,a)\n",
    "            # We stock in \"history\" the 5 last states, we will update their Q in case of a crash\n",
    "            # We chose 5 because it is relevant in our case given the number of rows\n",
    "            if len(history)<register_size :\n",
    "                history.append((s,a))\n",
    "            else :\n",
    "                history=history[1:5]+[(s,a)]\n",
    "                \n",
    "            s_prime = next_state(s,a,t)\n",
    "            apparition = s_prime[1]\n",
    "            s_prime = s_prime[0]\n",
    "            #Q learning update of the weigths\n",
    "            delta = r + gamma*find_maxQ(s_prime,q) - q[hash_s(s)][a]\n",
    "            q[hash_s(s)][a] += alpha * delta\n",
    "            s=s_prime \n",
    "            apparitions += apparition\n",
    "            #In case of a crash\n",
    "            if r==-3 : \n",
    "                for j in range(len(history)) :\n",
    "                    #Negative update for the states in the last history\n",
    "                    #This is the backpropagation part\n",
    "                    q[hash_s(history[j][0])][history[j][1]] += r * np.exp((j-register_size-1)/5)\n",
    "\n",
    "                    if(Display):\n",
    "                        print(\"Episode : \" +  str(i))\n",
    "                        print(history)\n",
    "                        #Interf.print_state(history[j][0],\"Mort : \"+str(i),t+j)\n",
    "\n",
    "            if r==10 : \n",
    "                bonus_score+=1\n",
    "            if(t>1000):\n",
    "                break\n",
    "        x += [t]\n",
    "        bonus_scores += [bonus_score]\n",
    "        if apparitions != 0 :\n",
    "            \n",
    "            proportion_taken += [bonus_score/apparitions]\n",
    "        else :\n",
    "            proportion_taken += [0]\n",
    "        #The rest is similar to the other algorithms\n",
    "            \n",
    "    return x, bonus_scores, proportion_taken"
   ]
  },
  {
   "cell_type": "code",
   "execution_count": 23,
   "metadata": {},
   "outputs": [
    {
     "name": "stdout",
     "output_type": "stream",
     "text": [
      "Episode : 1\n",
      "[([2, 1, 3, 3, 0, 4, 4], '1'), ([0, 2, 1, 3, 0, 0, 1], '1'), ([2, 0, 2, 1, 0, 1, 1], '2')]\n",
      "Episode : 1\n",
      "[([2, 1, 3, 3, 0, 4, 4], '1'), ([0, 2, 1, 3, 0, 0, 1], '1'), ([2, 0, 2, 1, 0, 1, 1], '2')]\n",
      "Episode : 1\n",
      "[([2, 1, 3, 3, 0, 4, 4], '1'), ([0, 2, 1, 3, 0, 0, 1], '1'), ([2, 0, 2, 1, 0, 1, 1], '2')]\n",
      "Episode : 6\n",
      "[([0, 0, 2, 3, 0, 0, 1], '1'), ([1, 0, 0, 2, 0, 1, 1], '2'), ([3, 1, 0, 0, 1, 2, 1], '0')]\n",
      "Episode : 6\n",
      "[([0, 0, 2, 3, 0, 0, 1], '1'), ([1, 0, 0, 2, 0, 1, 1], '2'), ([3, 1, 0, 0, 1, 2, 1], '0')]\n",
      "Episode : 6\n",
      "[([0, 0, 2, 3, 0, 0, 1], '1'), ([1, 0, 0, 2, 0, 1, 1], '2'), ([3, 1, 0, 0, 1, 2, 1], '0')]\n",
      "Episode : 19\n",
      "[([0, 3, 3, 1, 0, 2, 0], '1'), ([1, 0, 3, 3, 0, 3, 0], '1'), ([3, 1, 0, 3, 0, 0, 0], '1')]\n",
      "Episode : 19\n",
      "[([0, 3, 3, 1, 0, 2, 0], '1'), ([1, 0, 3, 3, 0, 3, 0], '1'), ([3, 1, 0, 3, 0, 0, 0], '1')]\n",
      "Episode : 19\n",
      "[([0, 3, 3, 1, 0, 2, 0], '1'), ([1, 0, 3, 3, 0, 3, 0], '1'), ([3, 1, 0, 3, 0, 0, 0], '1')]\n",
      "Episode : 55\n",
      "[([1, 1, 3, 3, 0, 4, 4], '1'), ([3, 1, 1, 3, 0, 0, 1], '2')]\n",
      "Episode : 55\n",
      "[([1, 1, 3, 3, 0, 4, 4], '1'), ([3, 1, 1, 3, 0, 0, 1], '2')]\n",
      "Episode : 153\n",
      "[([0, 3, 3, 3, 0, 2, 0], '1'), ([0, 0, 3, 3, 0, 3, 0], '1'), ([2, 0, 0, 3, 0, 0, 0], '1')]\n",
      "Episode : 153\n",
      "[([0, 3, 3, 3, 0, 2, 0], '1'), ([0, 0, 3, 3, 0, 3, 0], '1'), ([2, 0, 0, 3, 0, 0, 0], '1')]\n",
      "Episode : 153\n",
      "[([0, 3, 3, 3, 0, 2, 0], '1'), ([0, 0, 3, 3, 0, 3, 0], '1'), ([2, 0, 0, 3, 0, 0, 0], '1')]\n",
      "Episode : 419\n",
      "[([0, 2, 3, 3, 1, 4, 4], '1'), ([3, 0, 2, 3, 1, 4, 4], '1'), ([0, 3, 0, 2, 1, 4, 4], '0')]\n",
      "Episode : 419\n",
      "[([0, 2, 3, 3, 1, 4, 4], '1'), ([3, 0, 2, 3, 1, 4, 4], '1'), ([0, 3, 0, 2, 1, 4, 4], '0')]\n",
      "Episode : 419\n",
      "[([0, 2, 3, 3, 1, 4, 4], '1'), ([3, 0, 2, 3, 1, 4, 4], '1'), ([0, 3, 0, 2, 1, 4, 4], '0')]\n",
      "Episode : 1142\n",
      "[([0, 1, 3, 2, 1, 2, 2], '0'), ([0, 0, 1, 3, 0, 3, 2], '1'), ([1, 0, 0, 1, 0, 4, 4], '1')]\n",
      "Episode : 1142\n",
      "[([0, 1, 3, 2, 1, 2, 2], '0'), ([0, 0, 1, 3, 0, 3, 2], '1'), ([1, 0, 0, 1, 0, 4, 4], '1')]\n",
      "Episode : 1142\n",
      "[([0, 1, 3, 2, 1, 2, 2], '0'), ([0, 0, 1, 3, 0, 3, 2], '1'), ([1, 0, 0, 1, 0, 4, 4], '1')]\n",
      "Episode : 3107\n",
      "[([3, 2, 3, 1, 2, 3, 0], '1'), ([1, 3, 2, 3, 2, 0, 2], '0'), ([0, 1, 3, 2, 1, 1, 2], '2')]\n",
      "Episode : 3107\n",
      "[([3, 2, 3, 1, 2, 3, 0], '1'), ([1, 3, 2, 3, 2, 0, 2], '0'), ([0, 1, 3, 2, 1, 1, 2], '2')]\n",
      "Episode : 3107\n",
      "[([3, 2, 3, 1, 2, 3, 0], '1'), ([1, 3, 2, 3, 2, 0, 2], '0'), ([0, 1, 3, 2, 1, 1, 2], '2')]\n",
      "CPU times: user 5min 29s, sys: 8.62 s, total: 5min 37s\n",
      "Wall time: 7min 11s\n"
     ]
    }
   ],
   "source": [
    "%%time\n",
    "results = q_learning_backprop()\n",
    "Y=results[0]\n",
    "bonuses = results[1]\n",
    "proportions = results[2]"
   ]
  },
  {
   "cell_type": "markdown",
   "metadata": {},
   "source": [
    "We can see with the amination for the 15000th episode that our agent already lasts until the maximum time and performs well."
   ]
  },
  {
   "cell_type": "code",
   "execution_count": 24,
   "metadata": {},
   "outputs": [
    {
     "data": {
      "image/png": "[encoded data removed]",
      "text/plain": [
       "<matplotlib.figure.Figure at 0x10a07fd30>"
      ]
     },
     "metadata": {},
     "output_type": "display_data"
    }
   ],
   "source": [
    "X = [i for i in range(len(Y))]\n",
    "plt.plot(X,Y)\n",
    "plt.xlabel(\"episode number\")\n",
    "plt.ylabel(\"end time\")\n",
    "plt.title(\"Q Back Prop End Time\")\n",
    "#plt.savefig(\"QBackProp_endtime.png\")\n",
    "plt.show()    "
   ]
  },
  {
   "cell_type": "code",
   "execution_count": 25,
   "metadata": {},
   "outputs": [
    {
     "data": {
      "image/png": "[encoded data removed]",
      "text/plain": [
       "<matplotlib.figure.Figure at 0x109ff4be0>"
      ]
     },
     "metadata": {},
     "output_type": "display_data"
    }
   ],
   "source": [
    "Y_prime = [np.mean(Y[0:i]) for i in range(1,len(Y))]\n",
    "X = [i for i in range(len(Y_prime))]\n",
    "plt.plot(X,Y_prime)\n",
    "plt.xlabel(\"episode number\")\n",
    "plt.ylabel(\"time of end mean\")\n",
    "plt.title(\"Q Back Prop End Time Mean\")\n",
    "#plt.savefig(\"QbackPropETimemean.png\")\n",
    "plt.show()  "
   ]
  },
  {
   "cell_type": "code",
   "execution_count": 26,
   "metadata": {},
   "outputs": [
    {
     "data": {
      "image/png": "[encoded data removed]",
      "text/plain": [
       "<matplotlib.figure.Figure at 0x10a04b7b8>"
      ]
     },
     "metadata": {},
     "output_type": "display_data"
    }
   ],
   "source": [
    "bonuses_means = [np.mean(bonuses[0:i]) for i in range(1,len(bonuses))]\n",
    "X = [i for i in range(len(bonuses_means))]\n",
    "plt.plot(X,bonuses_means)\n",
    "plt.xlabel(\"episode number\")\n",
    "plt.title(\"Q Back Prop coins taken\")\n",
    "plt.ylabel(\"number of coins taken\")\n",
    "#plt.savefig(\"QbackpropCoinstaken.png\")\n",
    "plt.show()"
   ]
  },
  {
   "cell_type": "code",
   "execution_count": 27,
   "metadata": {},
   "outputs": [
    {
     "data": {
      "image/png": "[encoded data removed]",
      "text/plain": [
       "<matplotlib.figure.Figure at 0x10a0352b0>"
      ]
     },
     "metadata": {},
     "output_type": "display_data"
    }
   ],
   "source": [
    "proportions_taken_means = [np.mean(proportions[0:i]) for i in range(1,len(proportions))]\n",
    "X = [i for i in range(len(proportions_taken_means))]\n",
    "plt.plot(X,proportions_taken_means)\n",
    "plt.title(\"Q_learning_backprop\")\n",
    "plt.xlabel(\"episode number\")\n",
    "plt.ylabel(\"proportion of coins taken\")\n",
    "#plt.savefig(\"Qbackprop_ProportionCoinsTaken.png\")\n",
    "plt.show()"
   ]
  },
  {
   "cell_type": "code",
   "execution_count": 28,
   "metadata": {},
   "outputs": [
    {
     "data": {
      "text/plain": [
       "1001.0"
      ]
     },
     "execution_count": 28,
     "metadata": {},
     "output_type": "execute_result"
    }
   ],
   "source": [
    "np.mean(Y[-1000:-1])"
   ]
  }
 ],
 "metadata": {
  "kernelspec": {
   "display_name": "Python 3",
   "language": "python",
   "name": "python3"
  },
  "language_info": {
   "codemirror_mode": {
    "name": "ipython",
    "version": 3
   },
   "file_extension": ".py",
   "mimetype": "text/x-python",
   "name": "python",
   "nbconvert_exporter": "python",
   "pygments_lexer": "ipython3",
   "version": "3.6.4"
  }
 },
 "nbformat": 4,
 "nbformat_minor": 2
}
